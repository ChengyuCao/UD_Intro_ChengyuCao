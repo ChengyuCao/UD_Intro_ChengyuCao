{
 "cells": [
  {
   "cell_type": "code",
   "execution_count": 25,
   "id": "004b0012",
   "metadata": {},
   "outputs": [],
   "source": [
    "# Import Selenium and its sub libraries\n",
    "import selenium \n",
    "from selenium import webdriver\n",
    "from selenium.webdriver.common.by import By\n",
    "from selenium.webdriver.common.keys import Keys\n",
    "from selenium.webdriver.support.ui import Select\n",
    "from selenium.webdriver.support.ui import WebDriverWait\n",
    "from selenium.webdriver.support import expected_conditions as EC\n",
    "from time import sleep\n",
    "import re"
   ]
  },
  {
   "cell_type": "code",
   "execution_count": 26,
   "id": "83a910d3",
   "metadata": {},
   "outputs": [],
   "source": [
    "url=\"https://www.bl.uk/\""
   ]
  },
  {
   "cell_type": "code",
   "execution_count": 27,
   "id": "dad3b73c",
   "metadata": {},
   "outputs": [],
   "source": [
    "#Create lists\n",
    "books_list = []\n",
    "summary_list = []"
   ]
  },
  {
   "cell_type": "code",
   "execution_count": 28,
   "id": "a6a13eb1",
   "metadata": {},
   "outputs": [],
   "source": [
    "def extract_page_data(driver):\n",
    "    #Grab all books\n",
    "    books=driver.find_elements(\"class name\", \"EXLResult EXLResultMediaTYPEwebpage\")\n",
    "    #print(len(books))\n",
    "\n",
    "    #Create loop to itterate on the list\n",
    "    for b in range(len(books)):\n",
    "        try:          \n",
    "            #Extracting title\n",
    "            title = books[b].find_element(\"class name\",\"EXLResultTitle\").text\n",
    "            #print(title)\n",
    "        \n",
    "            #Extraction of summary\n",
    "            summary=books[b].find_element(\"class name\",\"EXLResultFourthLine\").text\n",
    "            #print(summary)\n",
    "        \n",
    "                  \n",
    "            #Add item to the respective lists\n",
    "            books_list.append(title)\n",
    "            summary_list.append(authors)\n",
    "            #link_list.append(link)\n",
    "            sleep(2)  \n",
    "        \n",
    "        except:\n",
    "            pass\n",
    "                       "
   ]
  },
  {
   "cell_type": "code",
   "execution_count": 29,
   "id": "6d64d079",
   "metadata": {},
   "outputs": [],
   "source": [
    "driver = webdriver.Chrome()\n",
    "driver.get(url)\n",
    "\n",
    "#Create lists to store the data\n",
    "books_list = []\n",
    "author_list=[]\n",
    "\n",
    "#Step 1: identify search box\n",
    "search_query = driver.find_element(\"name\",\"searchText\")\n",
    "\n",
    "#Step 2: search a topic\n",
    "search_query.send_keys('London')\n",
    "search_query.send_keys(Keys.RETURN)\n",
    "#Delay\n",
    "sleep(2)\n",
    "\n",
    "#Step 3: Execute the function for each page\n",
    "for page_num in range(0,3):\n",
    "    \n",
    "    #Execute the function \n",
    "    extract_page_data(driver)\n",
    "        \n",
    "    #Locate the \"Next\" button on the webpage and click it to navigate to the next page\n",
    "    driver.find_element(\"xpath\", \"//*[@id='resultsNavNoIdBottom']/a[5]\").click()\n",
    "\n",
    "#Close the webpage\n",
    "driver.quit()"
   ]
  },
  {
   "cell_type": "code",
   "execution_count": 31,
   "id": "bdbdb445",
   "metadata": {},
   "outputs": [],
   "source": [
    "#Import the library\n",
    "import csv \n",
    "\n",
    "#combine the lists\n",
    "data=zip(books_list,author_list,link_list)\n",
    "\n",
    "#Write all the data to a csv\n",
    "with open('openlibrarycatalogue.csv', 'w',newline='') as csvfile: \n",
    "    writer = csv.writer(csvfile) \n",
    "    for row in data:\n",
    "        writer.writerow(row)\n",
    "        \n",
    "#Write only links to a csv\n",
    "with open('onlylinks.csv', 'w',newline='') as csvfile: \n",
    "    writer = csv.writer(csvfile) \n",
    "    for link in link_list:\n",
    "        #print(row)\n",
    "        writer.writerow([link])"
   ]
  },
  {
   "cell_type": "code",
   "execution_count": null,
   "id": "72302787",
   "metadata": {},
   "outputs": [],
   "source": []
  }
 ],
 "metadata": {
  "kernelspec": {
   "display_name": "Python 3 (ipykernel)",
   "language": "python",
   "name": "python3"
  },
  "language_info": {
   "codemirror_mode": {
    "name": "ipython",
    "version": 3
   },
   "file_extension": ".py",
   "mimetype": "text/x-python",
   "name": "python",
   "nbconvert_exporter": "python",
   "pygments_lexer": "ipython3",
   "version": "3.8.18"
  }
 },
 "nbformat": 4,
 "nbformat_minor": 5
}
