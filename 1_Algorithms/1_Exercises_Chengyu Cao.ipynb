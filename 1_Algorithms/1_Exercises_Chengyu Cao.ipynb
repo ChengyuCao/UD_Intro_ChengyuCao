{
 "cells": [
  {
   "cell_type": "markdown",
   "id": "38e188a5",
   "metadata": {},
   "source": [
    "# Exercise 00\n",
    "Write a piece of code that allocates a list of 20 integers and initializes each element by its index multiplied by 5. Print the result."
   ]
  },
  {
   "cell_type": "code",
   "execution_count": 1,
   "id": "01aa4f35",
   "metadata": {},
   "outputs": [
    {
     "name": "stdout",
     "output_type": "stream",
     "text": [
      "[0, 5, 10, 15, 20, 25, 30, 35, 40, 45, 50, 55, 60, 65, 70, 75, 80, 85, 90, 95]\n"
     ]
    }
   ],
   "source": [
    "list = []\n",
    "for i in range(20):\n",
    "    list.append(i*5)\n",
    "print(list)"
   ]
  },
  {
   "cell_type": "markdown",
   "id": "529d91ae",
   "metadata": {},
   "source": [
    "# Exercise 01\n",
    "Define a function that takes an integer as input, prints  all integers that it is divisable by, and returns the largest one."
   ]
  },
  {
   "cell_type": "code",
   "execution_count": 2,
   "id": "5ce851dc",
   "metadata": {},
   "outputs": [
    {
     "name": "stdout",
     "output_type": "stream",
     "text": [
      "Enter an integer: 88\n",
      "1\n",
      "2\n",
      "4\n",
      "8\n",
      "11\n",
      "22\n",
      "44\n",
      "The largest integer divisible by 88 is 44\n"
     ]
    }
   ],
   "source": [
    "def div(n):\n",
    "    largest_div = 1\n",
    "    \n",
    "    if n <= 0:\n",
    "        print(\"Please enter a positive integer.\")\n",
    "        return None\n",
    "    \n",
    "    for i in range(1, int(n/2) + 1):\n",
    "        if n % i == 0:\n",
    "            print(i)\n",
    "            largest_div = i\n",
    "    \n",
    "    return largest_div\n",
    "\n",
    "input_integer = int(input(\"Enter an integer: \"))\n",
    "largest_div = div(input_integer)\n",
    "print(f\"The largest integer divisible by {input_integer} is {largest_div}\")\n"
   ]
  },
  {
   "cell_type": "markdown",
   "id": "cfbe30d4",
   "metadata": {},
   "source": [
    "# Exercise 02\n",
    "- create a dictionary with 6 keys and values of your choice\n",
    "- write a function that takes a dictionary and a value as input and returns whether the value occurs as a key in the dictionary\n",
    "- write a function that takes a dictionary as input, and returns the dictionary but the keys are swapped with their values (resolve the issue if a value occurs twice!)"
   ]
  },
  {
   "cell_type": "code",
   "execution_count": 3,
   "id": "2123f1c6",
   "metadata": {},
   "outputs": [],
   "source": [
    "my_dict = {\n",
    "    'fruit': 'apple',\n",
    "    'name': 'Chengyu Cao',\n",
    "    'age': '23',\n",
    "    'gender': 'male',\n",
    "    'birthday': '0803',\n",
    "    'location': 'London'\n",
    "}"
   ]
  },
  {
   "cell_type": "code",
   "execution_count": 5,
   "id": "d874f848",
   "metadata": {},
   "outputs": [
    {
     "name": "stdout",
     "output_type": "stream",
     "text": [
      "Does 'holiday' occur as a key in the dictionary? False\n"
     ]
    }
   ],
   "source": [
    "def is_value_in_dict(input_dict, value):\n",
    "    return value in input_dict.values()\n",
    "\n",
    "value_to_check = 'holiday'\n",
    "print(f\"Does '{value_to_check}' occur as a key in the dictionary? {is_value_in_dict(my_dict, value_to_check)}\")"
   ]
  },
  {
   "cell_type": "code",
   "execution_count": 6,
   "id": "b56fde97",
   "metadata": {},
   "outputs": [
    {
     "name": "stdout",
     "output_type": "stream",
     "text": [
      "Dictionary with swapped keys and values:\n",
      "{'apple': 'fruit', 'Chengyu Cao': 'name', '23': 'age', 'male': 'gender', '0803': 'birthday', 'London': 'location'}\n"
     ]
    }
   ],
   "source": [
    "def swap_keys_and_values(input_dict):\n",
    "    swapped_dict = {v: k for k, v in input_dict.items()}\n",
    "    return swapped_dict\n",
    "\n",
    "swapped_result = swap_keys_and_values(my_dict)\n",
    "print(\"Dictionary with swapped keys and values:\")\n",
    "print(swapped_result)"
   ]
  },
  {
   "cell_type": "markdown",
   "id": "b4b4e426",
   "metadata": {},
   "source": [
    "# Exercise 03\n",
    "Define a function that creates a dictionary of the first n fibonacci numbers as values paired with their indices as keys. "
   ]
  },
  {
   "cell_type": "code",
   "execution_count": 7,
   "id": "7845b5a4",
   "metadata": {},
   "outputs": [],
   "source": [
    "def fiboDic(n):\n",
    "    dic = {}\n",
    "    n1 = 0\n",
    "    n2 = 1\n",
    "    for i in range(n):\n",
    "        dic[i] = n1\n",
    "        m = n1 + n2\n",
    "        n1 = n2\n",
    "        n2 = m\n",
    "    return dic"
   ]
  },
  {
   "cell_type": "code",
   "execution_count": 9,
   "id": "5a115269",
   "metadata": {},
   "outputs": [
    {
     "data": {
      "text/plain": [
       "{0: 0,\n",
       " 1: 1,\n",
       " 2: 1,\n",
       " 3: 2,\n",
       " 4: 3,\n",
       " 5: 5,\n",
       " 6: 8,\n",
       " 7: 13,\n",
       " 8: 21,\n",
       " 9: 34,\n",
       " 10: 55,\n",
       " 11: 89,\n",
       " 12: 144,\n",
       " 13: 233,\n",
       " 14: 377,\n",
       " 15: 610,\n",
       " 16: 987,\n",
       " 17: 1597}"
      ]
     },
     "execution_count": 9,
     "metadata": {},
     "output_type": "execute_result"
    }
   ],
   "source": [
    "fiboDic(18)"
   ]
  },
  {
   "cell_type": "code",
   "execution_count": null,
   "id": "fa892ffb",
   "metadata": {},
   "outputs": [],
   "source": []
  }
 ],
 "metadata": {
  "kernelspec": {
   "display_name": "Python 3 (ipykernel)",
   "language": "python",
   "name": "python3"
  },
  "language_info": {
   "codemirror_mode": {
    "name": "ipython",
    "version": 3
   },
   "file_extension": ".py",
   "mimetype": "text/x-python",
   "name": "python",
   "nbconvert_exporter": "python",
   "pygments_lexer": "ipython3",
   "version": "3.8.18"
  }
 },
 "nbformat": 4,
 "nbformat_minor": 5
}
